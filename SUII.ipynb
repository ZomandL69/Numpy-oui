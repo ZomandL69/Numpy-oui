{
 "cells": [
  {
   "cell_type": "markdown",
   "metadata": {},
   "source": [
    "Question 1\n",
    "\n",
    "Write a Python program to convert an array to an ordinary list with the same items.\n",
    "\n",
    "We can use the np.tolist() function."
   ]
  },
  {
   "cell_type": "code",
   "execution_count": 16,
   "metadata": {},
   "outputs": [
    {
     "name": "stdout",
     "output_type": "stream",
     "text": [
      "['1' '2' '3' '4' '5']\n",
      "['1', '2', '3', '4', '5']\n"
     ]
    }
   ],
   "source": [
    "import numpy as np\n",
    "Ls=[input(\"Donner un élément : \") for i in range (int(input(\"Donner la taille  : \")))]\n",
    "T=np.array(Ls)\n",
    "print(T)\n",
    "Lf=T.tolist()\n",
    "print(Lf)"
   ]
  },
  {
   "cell_type": "markdown",
   "metadata": {},
   "source": [
    "Question 2 \n",
    "\n",
    "Write a NumPy program to compute the sum of the diagonal elements of a given array.\n",
    "\n",
    "Hint: There are two possible methods to solve this problem: \n",
    "\n",
    "Manually (without direct function). \n",
    "Using the trace function"
   ]
  },
  {
   "cell_type": "code",
   "execution_count": 46,
   "metadata": {},
   "outputs": [
    {
     "name": "stdout",
     "output_type": "stream",
     "text": [
      "[[1. 2. 3.]\n",
      " [4. 5. 6.]\n",
      " [1. 2. 3.]]\n",
      "9.0\n"
     ]
    }
   ],
   "source": [
    "import numpy as np\n",
    "nc=int(input(\"Donner le nombre des colonne  : \"))\n",
    "nl=int(input(\"Donner le nombre des lignes  : \"))\n",
    "ls=[[float(input(\"Donner un nombre : \")) for i in range (nc) ] for j in range (nl)]\n",
    "T=np.array(ls)\n",
    "print(T)\n",
    "D=0\n",
    "for x in range (nc) :\n",
    "    for y in range (nl) :\n",
    "        if x==y:\n",
    "            D=D+T[x,y]       \n",
    "print(D)     "
   ]
  },
  {
   "cell_type": "code",
   "execution_count": 49,
   "metadata": {},
   "outputs": [
    {
     "name": "stdout",
     "output_type": "stream",
     "text": [
      "[[4. 3.]\n",
      " [2. 4.]]\n",
      "8.0\n"
     ]
    }
   ],
   "source": [
    "import numpy as np\n",
    "nc=int(input(\"Donner le nombre des colonne  : \"))\n",
    "nl=int(input(\"Donner le nombre des lignes  : \"))\n",
    "ls=[[float(input(\"Donner un nombre : \")) for i in range (nc) ] for j in range (nl)]\n",
    "T=np.array(ls)\n",
    "print(T)\n",
    "D=np.trace(T)     \n",
    "print(D)     "
   ]
  },
  {
   "cell_type": "markdown",
   "metadata": {},
   "source": [
    "Question 3\n",
    "\n",
    "Given an array of your choice, get all the values higher than X:\n",
    "\n",
    "If a = [[1,2],[3,5]] and x = 2 :  then 3 and 5 are higher than 2. "
   ]
  },
  {
   "cell_type": "code",
   "execution_count": null,
   "metadata": {},
   "outputs": [],
   "source": [
    "import numpy as np\n",
    "nc=int(input(\"Donner le nombre des colonne  : \"))\n",
    "nl=int(input(\"Donner le nombre des lignes  : \"))\n",
    "ls=[[float(input(\"Donner un nombre : \")) for i in range (nc) ] for j in range (nl)]\n",
    "T=np.array(ls)\n",
    "print(T)\n",
    "x=int(input(\"Donner un X : \"))\n",
    "for a in range (nc) :\n",
    "    for b in range (nl) :\n",
    "        if x < T[a,b]:\n",
    "            print(f\"{T[a,b]} are higher than {x}\")\n"
   ]
  },
  {
   "cell_type": "markdown",
   "metadata": {},
   "source": [
    "Question 4\n",
    "\n",
    "Given two arrays, A & B have the same shape. \n",
    "\n",
    "The task is to apply addition by hand: C is the new array. \n",
    "\n"
   ]
  },
  {
   "cell_type": "code",
   "execution_count": null,
   "metadata": {},
   "outputs": [],
   "source": [
    "import numpy as np\n",
    "nc1=int(input(\"Donner le nombre des colonne de array 1 : \"))\n",
    "nl1=int(input(\"Donner le nombre des lignes de array 1 : \"))\n",
    "ls1=[[float(input(\"Donner un nombre : \")) for i in range (nc1) ] for j in range (nl1)]\n",
    "T1=np.array(ls1)\n",
    "print(T1)\n",
    "nc2=int(input(\"Donner le nombre des colonne de array 2 : \"))\n",
    "nl2=int(input(\"Donner le nombre des lignes de array 2 : \"))\n",
    "ls2=[[float(input(\"Donner un nombre : \")) for i in range (nc2) ] for j in range (nl2)]\n",
    "T2=np.array(ls2)\n",
    "print(T2)\n",
    "\n",
    "T3=np.array([[T1[a,b]+T2[a,b] for a in range(nc2)] for b in range(nl1)])\n",
    "print(T3)"
   ]
  },
  {
   "cell_type": "markdown",
   "metadata": {},
   "source": [
    "Question 5\n",
    "\n",
    "Write a NumPy program to subtract the mean of each row of a given matrix.\n",
    "\n",
    "Hint: use the mean function"
   ]
  },
  {
   "cell_type": "code",
   "execution_count": 22,
   "metadata": {},
   "outputs": [
    {
     "name": "stdout",
     "output_type": "stream",
     "text": [
      "[[3. 3.]\n",
      " [2. 1.]]\n",
      "[[ 0.   0. ]\n",
      " [ 0.5 -0.5]]\n"
     ]
    }
   ],
   "source": [
    "import numpy as np\n",
    "nc1=int(input(\"Donner le nombre des colonne de array 1 : \"))\n",
    "nl1=int(input(\"Donner le nombre des lignes de array 1 : \"))\n",
    "M=S=0\n",
    "ls1=[[float(input(\"Donner un nombre : \"))   for i in range (nc1) ] for j in range (nl1)]\n",
    "T1=np.array(ls1)\n",
    "print(T1)\n",
    "T2=np.array([[ T1[j,i]-T1[j,:].mean()   for i in range (nc1) ] for j in range (nl1)] )       \n",
    "print(T2)\n"
   ]
  }
 ],
 "metadata": {
  "kernelspec": {
   "display_name": "Python 3.10.6 64-bit",
   "language": "python",
   "name": "python3"
  },
  "language_info": {
   "codemirror_mode": {
    "name": "ipython",
    "version": 3
   },
   "file_extension": ".py",
   "mimetype": "text/x-python",
   "name": "python",
   "nbconvert_exporter": "python",
   "pygments_lexer": "ipython3",
   "version": "3.10.6"
  },
  "orig_nbformat": 4,
  "vscode": {
   "interpreter": {
    "hash": "de66d7802e14fb2e8694b63e255d0fe3514f0a531cbbfb87d1ecc51a74f4db4d"
   }
  }
 },
 "nbformat": 4,
 "nbformat_minor": 2
}
